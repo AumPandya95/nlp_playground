{
 "cells": [
  {
   "cell_type": "code",
   "execution_count": 1,
   "metadata": {},
   "outputs": [],
   "source": [
    "# Other libraries\n",
    "import pandas as pd\n",
    "import numpy as np\n",
    "from sklearn.feature_extraction.text import CountVectorizer # For extracting n-grams from a sentence\n",
    "import spacy\n",
    "import spacy_transformers\n",
    "from sentence_transformers import util\n"
   ]
  },
  {
   "cell_type": "code",
   "execution_count": 2,
   "metadata": {},
   "outputs": [],
   "source": [
    "input_list = [\n",
    "    \"For United Kingdom, Item Type with the highest Total Revenue\", \n",
    "    \"Country with the highest monthly percentage decline in Total Profit in the last 3 months\"\n",
    "]"
   ]
  },
  {
   "cell_type": "code",
   "execution_count": 3,
   "metadata": {},
   "outputs": [],
   "source": [
    "# !python -m spacy download en_core_web_trf\n",
    "nlp = spacy.load(\"en_core_web_trf\")"
   ]
  },
  {
   "cell_type": "code",
   "execution_count": 7,
   "metadata": {},
   "outputs": [
    {
     "name": "stdout",
     "output_type": "stream",
     "text": [
      "sales -> NOUN -> O -> \n"
     ]
    }
   ],
   "source": [
    "word = \"sales\"\n",
    "\n",
    "# word_split = word.split(\"_\")\n",
    "\n",
    "# for split_word in word_split:\n",
    "for token in nlp(word):\n",
    "    print(f\"{token.text} -> {token.pos_} -> {token.ent_iob_} -> {token.ent_type_}\")"
   ]
  },
  {
   "cell_type": "code",
   "execution_count": null,
   "metadata": {},
   "outputs": [],
   "source": []
  },
  {
   "cell_type": "code",
   "execution_count": 15,
   "metadata": {},
   "outputs": [
    {
     "name": "stdout",
     "output_type": "stream",
     "text": [
      "For -> ADP -> \n"
     ]
    },
    {
     "ename": "AttributeError",
     "evalue": "'spacy.tokens.token.Token' object has no attribute 'tensors'",
     "output_type": "error",
     "traceback": [
      "\u001b[0;31m---------------------------------------------------------------------------\u001b[0m",
      "\u001b[0;31mAttributeError\u001b[0m                            Traceback (most recent call last)",
      "\u001b[0;32m/tmp/ipykernel_20516/3230918657.py\u001b[0m in \u001b[0;36m<module>\u001b[0;34m\u001b[0m\n\u001b[1;32m      3\u001b[0m         \u001b[0;31m# if token.pos_ == \"NOUN\":\u001b[0m\u001b[0;34m\u001b[0m\u001b[0;34m\u001b[0m\u001b[0;34m\u001b[0m\u001b[0m\n\u001b[1;32m      4\u001b[0m         \u001b[0mprint\u001b[0m\u001b[0;34m(\u001b[0m\u001b[0;34mf\"{token.text} -> {token.pos_} -> {token.ent_type_}\"\u001b[0m\u001b[0;34m)\u001b[0m\u001b[0;34m\u001b[0m\u001b[0;34m\u001b[0m\u001b[0m\n\u001b[0;32m----> 5\u001b[0;31m         \u001b[0mprint\u001b[0m\u001b[0;34m(\u001b[0m\u001b[0mtoken\u001b[0m\u001b[0;34m.\u001b[0m\u001b[0mtensors\u001b[0m\u001b[0;34m)\u001b[0m\u001b[0;34m\u001b[0m\u001b[0;34m\u001b[0m\u001b[0m\n\u001b[0m\u001b[1;32m      6\u001b[0m     \u001b[0mprint\u001b[0m\u001b[0;34m(\u001b[0m\u001b[0;34m\"---------\"\u001b[0m\u001b[0;34m)\u001b[0m\u001b[0;34m\u001b[0m\u001b[0;34m\u001b[0m\u001b[0m\n\u001b[1;32m      7\u001b[0m \u001b[0;34m\u001b[0m\u001b[0m\n",
      "\u001b[0;31mAttributeError\u001b[0m: 'spacy.tokens.token.Token' object has no attribute 'tensors'"
     ]
    }
   ],
   "source": [
    "for i in range(len(input_list)):\n",
    "    for token in nlp(input_list[i]):\n",
    "        # if token.pos_ == \"NOUN\":\n",
    "        print(f\"{token.text} -> {token.pos_} -> {token.ent_type_}\")\n",
    "    print(\"---------\")\n",
    "\n",
    "# example = \"To take us through this results of the quarter and answer your question, we have with us the from the top \\\n",
    "# Management of Heranba, Mr. R. K. Shetty - Managing Director; Mr. Raunak Shetty - Executive Director, and \\\n",
    "# Mr. Raj Kumar Bafna - Chief Financial Officer.\"\n",
    "\n",
    "# for token_ent in nlp(input_list[0]).ents:\n",
    "#     print(f\"{token_ent.text} -> {token_ent.label_}\")"
   ]
  },
  {
   "cell_type": "code",
   "execution_count": 25,
   "metadata": {},
   "outputs": [
    {
     "name": "stdout",
     "output_type": "stream",
     "text": [
      "[[0.9728014]]\n"
     ]
    }
   ],
   "source": [
    "import spacy_transformers\n",
    "from sentence_transformers import util\n",
    "\n",
    "\n",
    "for token in nlp.pipe([input_list[0]]):\n",
    "    a = token._.trf_data.tensors[-1]\n",
    "\n",
    "for token in nlp.pipe([input_list[1]]):\n",
    "    b = token._.trf_data.tensors[-1]\n",
    "    \n",
    "print(util.cos_sim(a, b).numpy())"
   ]
  },
  {
   "cell_type": "code",
   "execution_count": 5,
   "metadata": {},
   "outputs": [
    {
     "name": "stdout",
     "output_type": "stream",
     "text": [
      "tokens Country with the highest monthly percentage decline in Total Profit in the last 3 months\n"
     ]
    },
    {
     "data": {
      "text/html": [
       "<div>\n",
       "<style scoped>\n",
       "    .dataframe tbody tr th:only-of-type {\n",
       "        vertical-align: middle;\n",
       "    }\n",
       "\n",
       "    .dataframe tbody tr th {\n",
       "        vertical-align: top;\n",
       "    }\n",
       "\n",
       "    .dataframe thead th {\n",
       "        text-align: right;\n",
       "    }\n",
       "</style>\n",
       "<table border=\"1\" class=\"dataframe\">\n",
       "  <thead>\n",
       "    <tr style=\"text-align: right;\">\n",
       "      <th></th>\n",
       "      <th>Text</th>\n",
       "      <th>POS</th>\n",
       "      <th>ENT</th>\n",
       "    </tr>\n",
       "  </thead>\n",
       "  <tbody>\n",
       "    <tr>\n",
       "      <th>0</th>\n",
       "      <td>Country</td>\n",
       "      <td>NOUN</td>\n",
       "      <td></td>\n",
       "    </tr>\n",
       "    <tr>\n",
       "      <th>1</th>\n",
       "      <td>with</td>\n",
       "      <td>ADP</td>\n",
       "      <td></td>\n",
       "    </tr>\n",
       "    <tr>\n",
       "      <th>2</th>\n",
       "      <td>the</td>\n",
       "      <td>DET</td>\n",
       "      <td></td>\n",
       "    </tr>\n",
       "    <tr>\n",
       "      <th>3</th>\n",
       "      <td>highest</td>\n",
       "      <td>ADJ</td>\n",
       "      <td></td>\n",
       "    </tr>\n",
       "    <tr>\n",
       "      <th>4</th>\n",
       "      <td>monthly</td>\n",
       "      <td>ADJ</td>\n",
       "      <td>DATE</td>\n",
       "    </tr>\n",
       "    <tr>\n",
       "      <th>5</th>\n",
       "      <td>percentage</td>\n",
       "      <td>NOUN</td>\n",
       "      <td></td>\n",
       "    </tr>\n",
       "    <tr>\n",
       "      <th>6</th>\n",
       "      <td>decline</td>\n",
       "      <td>NOUN</td>\n",
       "      <td></td>\n",
       "    </tr>\n",
       "    <tr>\n",
       "      <th>7</th>\n",
       "      <td>in</td>\n",
       "      <td>ADP</td>\n",
       "      <td></td>\n",
       "    </tr>\n",
       "    <tr>\n",
       "      <th>8</th>\n",
       "      <td>Total</td>\n",
       "      <td>ADJ</td>\n",
       "      <td>ORG</td>\n",
       "    </tr>\n",
       "    <tr>\n",
       "      <th>9</th>\n",
       "      <td>Profit</td>\n",
       "      <td>PROPN</td>\n",
       "      <td>ORG</td>\n",
       "    </tr>\n",
       "    <tr>\n",
       "      <th>10</th>\n",
       "      <td>in</td>\n",
       "      <td>ADP</td>\n",
       "      <td></td>\n",
       "    </tr>\n",
       "    <tr>\n",
       "      <th>11</th>\n",
       "      <td>the</td>\n",
       "      <td>DET</td>\n",
       "      <td>DATE</td>\n",
       "    </tr>\n",
       "    <tr>\n",
       "      <th>12</th>\n",
       "      <td>last</td>\n",
       "      <td>ADJ</td>\n",
       "      <td>DATE</td>\n",
       "    </tr>\n",
       "    <tr>\n",
       "      <th>13</th>\n",
       "      <td>3</td>\n",
       "      <td>NUM</td>\n",
       "      <td>DATE</td>\n",
       "    </tr>\n",
       "    <tr>\n",
       "      <th>14</th>\n",
       "      <td>months</td>\n",
       "      <td>NOUN</td>\n",
       "      <td>DATE</td>\n",
       "    </tr>\n",
       "  </tbody>\n",
       "</table>\n",
       "</div>"
      ],
      "text/plain": [
       "          Text    POS   ENT\n",
       "0      Country   NOUN      \n",
       "1         with    ADP      \n",
       "2          the    DET      \n",
       "3      highest    ADJ      \n",
       "4      monthly    ADJ  DATE\n",
       "5   percentage   NOUN      \n",
       "6      decline   NOUN      \n",
       "7           in    ADP      \n",
       "8        Total    ADJ   ORG\n",
       "9       Profit  PROPN   ORG\n",
       "10          in    ADP      \n",
       "11         the    DET  DATE\n",
       "12        last    ADJ  DATE\n",
       "13           3    NUM  DATE\n",
       "14      months   NOUN  DATE"
      ]
     },
     "execution_count": 5,
     "metadata": {},
     "output_type": "execute_result"
    }
   ],
   "source": [
    "# Infer numbers using POS tags for conversion to character strings\n",
    "corpus_tokens = nlp(input_list[1])\n",
    "print('tokens', corpus_tokens)\n",
    "col_names = ['Text', 'POS', 'ENT']\n",
    "output_df = pd.DataFrame([], columns = col_names)\n",
    "\n",
    "for token in corpus_tokens:\n",
    "    inlist = pd.DataFrame([[token.text, token.pos_, token.ent_type_]], columns=col_names)\n",
    "    output_df = pd.concat([output_df, inlist], ignore_index=True)\n",
    "\n",
    "output_df"
   ]
  },
  {
   "cell_type": "markdown",
   "metadata": {},
   "source": [
    "# ----------------------------------------------------------------------------------------"
   ]
  },
  {
   "cell_type": "code",
   "execution_count": 19,
   "metadata": {},
   "outputs": [],
   "source": [
    "data = pd.read_excel(\"../../../datasets/ALKEM REPORT.xlsx\")"
   ]
  },
  {
   "cell_type": "code",
   "execution_count": 20,
   "metadata": {},
   "outputs": [
    {
     "data": {
      "text/plain": [
       "Index(['DIVISION', 'GEOGRAPHY', 'MARKET', 'BRANDS', 'COMPANY', 'LAUNCH DATE',\n",
       "       'CAGR % SEP 19', 'EVOLUTION INDEX SEP 19', 'RANK MAT SEP 15',\n",
       "       'RANK MAT SEP 16', 'RANK MAT SEP 17', 'RANK MAT SEP 18',\n",
       "       'RANK MAT SEP 19', 'VAL MAT SEP 15', 'VAL MAT SEP 16', 'VAL MAT SEP 17',\n",
       "       'VAL MAT SEP 18', 'VAL MAT SEP 19', 'VAL MS% MAT SEP 15',\n",
       "       'VAL MS% MAT SEP 16', 'VAL MS% MAT SEP 17', 'VAL MS% MAT SEP 18',\n",
       "       'VAL MS% MAT SEP 19', 'VAL GR% MAT SEP 16', 'VAL GR% MAT SEP 17',\n",
       "       'VAL GR% MAT SEP 18', 'VAL GR% MAT SEP 19'],\n",
       "      dtype='object')"
      ]
     },
     "execution_count": 20,
     "metadata": {},
     "output_type": "execute_result"
    }
   ],
   "source": [
    "data.columns"
   ]
  },
  {
   "cell_type": "code",
   "execution_count": 24,
   "metadata": {},
   "outputs": [
    {
     "name": "stderr",
     "output_type": "stream",
     "text": [
      "/home/aum/Desktop/projects/nlp/nlp_env/lib/python3.9/site-packages/torch/autocast_mode.py:141: UserWarning: User provided device_type of 'cuda', but CUDA is not available. Disabling\n",
      "  warnings.warn('User provided device_type of \\'cuda\\', but CUDA is not available. Disabling')\n"
     ]
    },
    {
     "name": "stdout",
     "output_type": "stream",
     "text": [
      "\n"
     ]
    }
   ],
   "source": [
    "word = \"Brands\"\n",
    "for token in nlp(word):\n",
    "    print(token.ent_type_)"
   ]
  },
  {
   "cell_type": "code",
   "execution_count": 23,
   "metadata": {},
   "outputs": [
    {
     "name": "stdout",
     "output_type": "stream",
     "text": [
      "DIVISION -> O -> \n",
      "----\n",
      "GEOGRAPHY -> O -> \n",
      "----\n",
      "MARKET -> O -> \n",
      "----\n",
      "BRANDS -> O -> \n",
      "----\n",
      "COMPANY -> O -> \n",
      "----\n",
      "LAUNCH -> O -> \n",
      "DATE -> O -> \n",
      "----\n",
      "CAGR -> O -> \n",
      "% -> O -> \n",
      "SEP -> O -> \n",
      "19 -> B -> CARDINAL\n",
      "----\n",
      "EVOLUTION -> O -> \n",
      "INDEX -> O -> \n",
      "SEP -> O -> \n",
      "19 -> B -> CARDINAL\n",
      "----\n",
      "RANK -> O -> \n",
      "MAT -> O -> \n",
      "SEP -> O -> \n",
      "15 -> B -> CARDINAL\n",
      "----\n",
      "RANK -> O -> \n",
      "MAT -> O -> \n",
      "SEP -> O -> \n",
      "16 -> B -> CARDINAL\n",
      "----\n",
      "RANK -> O -> \n",
      "MAT -> O -> \n",
      "SEP -> O -> \n",
      "17 -> B -> CARDINAL\n",
      "----\n",
      "RANK -> O -> \n",
      "MAT -> O -> \n",
      "SEP -> O -> \n",
      "18 -> B -> CARDINAL\n",
      "----\n",
      "RANK -> O -> \n",
      "MAT -> O -> \n",
      "SEP -> O -> \n",
      "19 -> B -> CARDINAL\n",
      "----\n",
      "VAL -> O -> \n",
      "MAT -> O -> \n",
      "SEP -> O -> \n",
      "15 -> B -> CARDINAL\n",
      "----\n",
      "VAL -> O -> \n",
      "MAT -> O -> \n",
      "SEP -> O -> \n",
      "16 -> B -> CARDINAL\n",
      "----\n",
      "VAL -> O -> \n",
      "MAT -> O -> \n",
      "SEP -> O -> \n",
      "17 -> B -> CARDINAL\n",
      "----\n",
      "VAL -> O -> \n",
      "MAT -> O -> \n",
      "SEP -> O -> \n",
      "18 -> B -> CARDINAL\n",
      "----\n",
      "VAL -> O -> \n",
      "MAT -> O -> \n",
      "SEP -> O -> \n",
      "19 -> B -> CARDINAL\n",
      "----\n",
      "VAL -> O -> \n",
      "MS% -> O -> \n",
      "MAT -> O -> \n",
      "SEP -> O -> \n",
      "15 -> B -> CARDINAL\n",
      "----\n",
      "VAL -> O -> \n",
      "MS% -> O -> \n",
      "MAT -> O -> \n",
      "SEP -> O -> \n",
      "16 -> B -> CARDINAL\n",
      "----\n",
      "VAL -> O -> \n",
      "MS% -> O -> \n",
      "MAT -> O -> \n",
      "SEP -> O -> \n",
      "17 -> B -> CARDINAL\n",
      "----\n",
      "VAL -> O -> \n",
      "MS% -> O -> \n",
      "MAT -> O -> \n",
      "SEP -> O -> \n",
      "18 -> B -> CARDINAL\n",
      "----\n",
      "VAL -> O -> \n",
      "MS% -> O -> \n",
      "MAT -> O -> \n",
      "SEP -> O -> \n",
      "19 -> B -> CARDINAL\n",
      "----\n",
      "VAL -> O -> \n",
      "GR% -> O -> \n",
      "MAT -> O -> \n",
      "SEP -> O -> \n",
      "16 -> B -> CARDINAL\n",
      "----\n",
      "VAL -> O -> \n",
      "GR% -> O -> \n",
      "MAT -> O -> \n",
      "SEP -> O -> \n",
      "17 -> B -> CARDINAL\n",
      "----\n",
      "VAL -> O -> \n",
      "GR% -> O -> \n",
      "MAT -> O -> \n",
      "SEP -> O -> \n",
      "18 -> B -> CARDINAL\n",
      "----\n",
      "VAL -> O -> \n",
      "GR% -> O -> \n",
      "MAT -> O -> \n",
      "SEP -> O -> \n",
      "19 -> B -> CARDINAL\n",
      "----\n"
     ]
    }
   ],
   "source": [
    "for word in data.columns:\n",
    "    for token in nlp(word):\n",
    "        print(f\"{token.text} -> {token.ent_iob_} -> {token.ent_type_}\")\n",
    "    print('----')"
   ]
  },
  {
   "cell_type": "code",
   "execution_count": null,
   "metadata": {},
   "outputs": [],
   "source": [
    "# Check BERT Embeddings"
   ]
  }
 ],
 "metadata": {
  "interpreter": {
   "hash": "12466f790b01845891e8c54f2878097070b87efd364ef8a7c7054cc189b73841"
  },
  "kernelspec": {
   "display_name": "Python 3.9.1 64-bit ('nlp_env': venv)",
   "language": "python",
   "name": "python391jvsc74a57bd03502c2d8a44f1d370a9f7e349ee408832b67c21c31bd8924b7b4cde15de44893"
  },
  "language_info": {
   "codemirror_mode": {
    "name": "ipython",
    "version": 3
   },
   "file_extension": ".py",
   "mimetype": "text/x-python",
   "name": "python",
   "nbconvert_exporter": "python",
   "pygments_lexer": "ipython3",
   "version": "3.9.1"
  }
 },
 "nbformat": 4,
 "nbformat_minor": 2
}
