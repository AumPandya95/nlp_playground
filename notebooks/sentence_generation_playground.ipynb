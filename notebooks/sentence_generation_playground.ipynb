{
 "cells": [
  {
   "cell_type": "code",
   "execution_count": 52,
   "metadata": {},
   "outputs": [],
   "source": [
    "import bs4\n",
    "import requests\n",
    "import pandas as pd\n",
    "import re"
   ]
  },
  {
   "cell_type": "code",
   "execution_count": 5,
   "metadata": {},
   "outputs": [],
   "source": [
    "r = requests.get(\"https://sentence.yourdictionary.com/respectively\")"
   ]
  },
  {
   "cell_type": "code",
   "execution_count": 6,
   "metadata": {},
   "outputs": [],
   "source": [
    "with open('abc.txt', 'w') as b:\n",
    "    b.write(r.text)"
   ]
  },
  {
   "cell_type": "code",
   "execution_count": 7,
   "metadata": {},
   "outputs": [],
   "source": [
    "soup = bs4.BeautifulSoup(r.text, 'html.parser')"
   ]
  },
  {
   "cell_type": "code",
   "execution_count": 59,
   "metadata": {},
   "outputs": [],
   "source": [
    "corpus_df = pd.DataFrame(None, columns=[\"output_sentence\"])\n",
    "corpus = []\n",
    "for hit in soup.findAll(attrs={\"class\": \"sentence-item__text\"}):\n",
    "    hit_content = []\n",
    "    for each_phrase in hit.contents:\n",
    "        if isinstance(each_phrase, bs4.element.Tag):\n",
    "            each_phrase = str(each_phrase)\n",
    "            each_phrase = each_phrase.replace(\"<mark>\", \"\").replace(\"</mark>\", \"\").strip()\n",
    "            # print(each_phrase)\n",
    "        hit_content.append(each_phrase)\n",
    "    sentence_string = \" \".join(hit_content)\n",
    "    sentence_string = re.sub(r\"[ ]{2,}\", \" \", sentence_string)  # Remove additional spaces\n",
    "    # print(sentence_string)\n",
    "    # corpus_df = pd.DataFrame([hit.contents])\n",
    "    corpus_df = pd.concat([corpus_df, pd.DataFrame([[sentence_string]], columns=[\"output_sentence\"])], axis=0)\n",
    "corpus_df.reset_index(drop=True, inplace=True)\n",
    "\n",
    "corpus_df.to_excel(\"../data/sentence_generation.xlsx\", index=False)"
   ]
  }
 ],
 "metadata": {
  "interpreter": {
   "hash": "3d2a12883df202f51a08e1f757b345e71b08bf7c8dc91b1538c0cba0bebac7b3"
  },
  "kernelspec": {
   "display_name": "Python 3.9.1 64-bit ('nlp_env': venv)",
   "language": "python",
   "name": "python3"
  },
  "language_info": {
   "codemirror_mode": {
    "name": "ipython",
    "version": 3
   },
   "file_extension": ".py",
   "mimetype": "text/x-python",
   "name": "python",
   "nbconvert_exporter": "python",
   "pygments_lexer": "ipython3",
   "version": "3.9.1"
  },
  "orig_nbformat": 4
 },
 "nbformat": 4,
 "nbformat_minor": 2
}
